{
  "nbformat": 4,
  "nbformat_minor": 0,
  "metadata": {
    "colab": {
      "provenance": [],
      "cell_execution_strategy": "setup",
      "toc_visible": true,
      "mount_file_id": "101dHFUhX5KSb3AdEsvuoLLTXf2V3c7gy",
      "authorship_tag": "ABX9TyPD3bZpxX5y3/0E8xf3xwAG",
      "include_colab_link": true
    },
    "kernelspec": {
      "name": "python3",
      "display_name": "Python 3"
    },
    "language_info": {
      "name": "python"
    }
  },
  "cells": [
    {
      "cell_type": "markdown",
      "metadata": {
        "id": "view-in-github",
        "colab_type": "text"
      },
      "source": [
        "<a href=\"https://colab.research.google.com/github/choijihye295/capstone_24/blob/main/iksan_18_no_v1.ipynb\" target=\"_parent\"><img src=\"https://colab.research.google.com/assets/colab-badge.svg\" alt=\"Open In Colab\"/></a>"
      ]
    },
    {
      "cell_type": "code",
      "execution_count": null,
      "metadata": {
        "colab": {
          "base_uri": "https://localhost:8080/"
        },
        "id": "nseRwJc6kpMz",
        "outputId": "1da0a76f-531a-4263-a4a9-99da59756155"
      },
      "outputs": [
        {
          "output_type": "stream",
          "name": "stdout",
          "text": [
            "               저장시간  내부온도  내부온도1  내부온도2  내부온도3  내부습도  내부습도1  내부습도2  내부습도3  지온  \\\n",
            "0  2018-01-01 00:00  14.1   13.4   14.9   40.0  85.8   83.1   88.5   99.9   0   \n",
            "1  2018-01-01 00:01  14.2   13.4   14.9   40.0  85.9   83.1   88.8   99.4   0   \n",
            "2  2018-01-01 00:02  14.1   13.4   14.9   40.2  86.1   83.1   89.0  100.0   0   \n",
            "3  2018-01-01 00:03  14.1   13.4   14.8   40.2  85.9   83.1   88.8   99.6   0   \n",
            "4  2018-01-01 00:04  14.1   13.4   14.8   40.1  86.3   83.1   89.5   99.9   0   \n",
            "\n",
            "   ...  공급온도2  정전신호  로그인상태  회수온도1  회수온도2 EC1  EC2  PH1  PH2  내부일사  \n",
            "0  ...      0    정상    로그온      0      0   0  1.5    0  0.0     0  \n",
            "1  ...      0    정상    로그온      0      0   0  1.5    0  0.0     0  \n",
            "2  ...      0    정상    로그온      0      0   0  1.5    0  0.0     0  \n",
            "3  ...      0    정상    로그온      0      0   0  1.5    0  0.0     0  \n",
            "4  ...      0    정상    로그온      0      0   0  1.5    0  0.0     0  \n",
            "\n",
            "[5 rows x 84 columns]\n"
          ]
        }
      ],
      "source": [
        "import pandas as pd\n",
        "\n",
        "# 익산 2018년 데이터 불러오기\n",
        "file_path = '/content/drive/MyDrive/cap_data/iksan/( 2018-01-01 ~ 2018-12-31 ) 정1구역.csv'\n",
        "data = pd.read_csv(file_path, encoding='euc-kr')\n",
        "print(data.head())"
      ]
    },
    {
      "cell_type": "code",
      "source": [
        "\n",
        "# 2. 결측치 확인\n",
        "missing_values = data.isnull().sum()\n",
        "print(\"결측치가 있는 열과 그 수:\\n\", missing_values[missing_values > 0])"
      ],
      "metadata": {
        "colab": {
          "base_uri": "https://localhost:8080/"
        },
        "id": "1yNKvUvblZAY",
        "outputId": "a930bc80-4d0f-4264-f1c9-7532c7a253a0"
      },
      "execution_count": null,
      "outputs": [
        {
          "output_type": "stream",
          "name": "stdout",
          "text": [
            "결측치가 있는 열과 그 수:\n",
            " Series([], dtype: int64)\n"
          ]
        }
      ]
    },
    {
      "cell_type": "code",
      "source": [
        "# 최종 선택된 주요 변수 (수정된 열 이름 반영)\n",
        "selected_columns = [\n",
        "    '저장시간',         # 시간 정보\n",
        "    '외부온도',         # 외부 온도\n",
        "    '내부온도',         # 내부 온도 (대표 값)\n",
        "    '내부온도1',        # 내부 온도1\n",
        "    '내부온도2',        # 내부 온도2\n",
        "    '내부온도3',        # 내부 온도3\n",
        "    '내부습도',         # 내부 습도 (대표 값)\n",
        "    '내부습도1',        # 내부 습도1\n",
        "    '내부습도2',        # 내부 습도2\n",
        "    '내부습도3',        # 내부 습도3\n",
        "    '제어난방온도',     # 설정 난방 온도\n",
        "    '난방온도',         # 최종 난방 온도 (타깃 변수)\n",
        "    '환기조절',         # 환기조절 영향값\n",
        "    '난방조절',         # 난방조절 영향값\n",
        "    '내부일사',         # 광량 정보\n",
        "    '일사량',          # 일사량\n",
        "    'CO2농도',         # 이산화탄소 농도\n",
        "    '이슬점',          # 이슬점 (온도에 추가적 영향 가능)\n",
        "    '제어환기온도'      # 제어 환기 온도\n",
        "]\n",
        "\n",
        "# 선택한 변수로 데이터 필터링\n",
        "data_filtered = data[selected_columns]\n"
      ],
      "metadata": {
        "id": "al920dj4lx9q"
      },
      "execution_count": null,
      "outputs": []
    },
    {
      "cell_type": "code",
      "source": [
        "\n",
        "# 4. '저장시간' 열을 datetime 형식으로 변환\n",
        "data_filtered['저장시간'] = pd.to_datetime(data_filtered['저장시간'], format='%Y-%m-%d %H:%M')\n",
        "\n",
        "# 5. 결과 확인\n",
        "print(data_filtered.head())"
      ],
      "metadata": {
        "colab": {
          "base_uri": "https://localhost:8080/"
        },
        "id": "4tmHdI-il6Y4",
        "outputId": "30887055-f05c-4d4d-c7d4-fb356326c440"
      },
      "execution_count": null,
      "outputs": [
        {
          "output_type": "stream",
          "name": "stdout",
          "text": [
            "                 저장시간  외부온도  내부온도  내부온도1  내부온도2  내부온도3  내부습도  내부습도1  내부습도2  \\\n",
            "0 2018-01-01 00:00:00  -2.4  14.1   13.4   14.9   40.0  85.8   83.1   88.5   \n",
            "1 2018-01-01 00:01:00  -2.4  14.2   13.4   14.9   40.0  85.9   83.1   88.8   \n",
            "2 2018-01-01 00:02:00  -2.5  14.1   13.4   14.9   40.2  86.1   83.1   89.0   \n",
            "3 2018-01-01 00:03:00  -2.5  14.1   13.4   14.8   40.2  85.9   83.1   88.8   \n",
            "4 2018-01-01 00:04:00  -2.4  14.1   13.4   14.8   40.1  86.3   83.1   89.5   \n",
            "\n",
            "   내부습도3  제어난방온도  난방온도  환기조절  난방조절  내부일사  일사량  CO2농도   이슬점  제어환기온도  \n",
            "0   99.9    14.0  14.0   0.0   0.0     0    0    424  10.5    15.0  \n",
            "1   99.4    14.0  14.0   0.0   0.0     0    0    424  10.5    15.0  \n",
            "2  100.0    14.0  14.0   0.0   0.0     0    0    424  10.5    15.0  \n",
            "3   99.6    14.0  14.0   0.0   0.0     0    0    426  10.5    15.0  \n",
            "4   99.9    14.0  14.0   0.0   0.0     0    0    424  10.5    15.0  \n"
          ]
        },
        {
          "output_type": "stream",
          "name": "stderr",
          "text": [
            "<ipython-input-7-348968b6b3d2>:2: SettingWithCopyWarning: \n",
            "A value is trying to be set on a copy of a slice from a DataFrame.\n",
            "Try using .loc[row_indexer,col_indexer] = value instead\n",
            "\n",
            "See the caveats in the documentation: https://pandas.pydata.org/pandas-docs/stable/user_guide/indexing.html#returning-a-view-versus-a-copy\n",
            "  data_filtered['저장시간'] = pd.to_datetime(data_filtered['저장시간'], format='%Y-%m-%d %H:%M')\n"
          ]
        }
      ]
    },
    {
      "cell_type": "code",
      "source": [
        "# 전체 열을 표시할 수 있도록 설정\n",
        "pd.set_option('display.max_columns', None)\n",
        "\n",
        "# 데이터프레임 미리보기\n",
        "print(data_filtered.head())\n"
      ],
      "metadata": {
        "colab": {
          "base_uri": "https://localhost:8080/"
        },
        "id": "Gw_Is5IhmBtK",
        "outputId": "5a74fca5-f7ff-4a7c-b305-f5773f711a54"
      },
      "execution_count": null,
      "outputs": [
        {
          "output_type": "stream",
          "name": "stdout",
          "text": [
            "                 저장시간  외부온도  내부온도  내부온도1  내부온도2  내부온도3  내부습도  내부습도1  내부습도2  \\\n",
            "0 2018-01-01 00:00:00  -2.4  14.1   13.4   14.9   40.0  85.8   83.1   88.5   \n",
            "1 2018-01-01 00:01:00  -2.4  14.2   13.4   14.9   40.0  85.9   83.1   88.8   \n",
            "2 2018-01-01 00:02:00  -2.5  14.1   13.4   14.9   40.2  86.1   83.1   89.0   \n",
            "3 2018-01-01 00:03:00  -2.5  14.1   13.4   14.8   40.2  85.9   83.1   88.8   \n",
            "4 2018-01-01 00:04:00  -2.4  14.1   13.4   14.8   40.1  86.3   83.1   89.5   \n",
            "\n",
            "   내부습도3  제어난방온도  난방온도  환기조절  난방조절  내부일사  일사량  CO2농도   이슬점  제어환기온도  \n",
            "0   99.9    14.0  14.0   0.0   0.0     0    0    424  10.5    15.0  \n",
            "1   99.4    14.0  14.0   0.0   0.0     0    0    424  10.5    15.0  \n",
            "2  100.0    14.0  14.0   0.0   0.0     0    0    424  10.5    15.0  \n",
            "3   99.6    14.0  14.0   0.0   0.0     0    0    426  10.5    15.0  \n",
            "4   99.9    14.0  14.0   0.0   0.0     0    0    424  10.5    15.0  \n"
          ]
        }
      ]
    },
    {
      "cell_type": "code",
      "source": [
        "data_filtered.head()"
      ],
      "metadata": {
        "colab": {
          "base_uri": "https://localhost:8080/",
          "height": 328
        },
        "id": "HjxAomGmmjCE",
        "outputId": "b072f4b1-c02d-47ce-e4f4-c7541c2eda0c"
      },
      "execution_count": null,
      "outputs": [
        {
          "output_type": "execute_result",
          "data": {
            "text/plain": [
              "                 저장시간  외부온도  내부온도  내부온도1  내부온도2  내부온도3  내부습도  내부습도1  내부습도2  \\\n",
              "0 2018-01-01 00:00:00  -2.4  14.1   13.4   14.9   40.0  85.8   83.1   88.5   \n",
              "1 2018-01-01 00:01:00  -2.4  14.2   13.4   14.9   40.0  85.9   83.1   88.8   \n",
              "2 2018-01-01 00:02:00  -2.5  14.1   13.4   14.9   40.2  86.1   83.1   89.0   \n",
              "3 2018-01-01 00:03:00  -2.5  14.1   13.4   14.8   40.2  85.9   83.1   88.8   \n",
              "4 2018-01-01 00:04:00  -2.4  14.1   13.4   14.8   40.1  86.3   83.1   89.5   \n",
              "\n",
              "   내부습도3  제어난방온도  난방온도  환기조절  난방조절  내부일사  일사량  CO2농도   이슬점  제어환기온도  \n",
              "0   99.9    14.0  14.0   0.0   0.0     0    0    424  10.5    15.0  \n",
              "1   99.4    14.0  14.0   0.0   0.0     0    0    424  10.5    15.0  \n",
              "2  100.0    14.0  14.0   0.0   0.0     0    0    424  10.5    15.0  \n",
              "3   99.6    14.0  14.0   0.0   0.0     0    0    426  10.5    15.0  \n",
              "4   99.9    14.0  14.0   0.0   0.0     0    0    424  10.5    15.0  "
            ],
            "text/html": [
              "\n",
              "  <div id=\"df-7de2f5d7-e943-4394-a0cf-9999112e6f5f\" class=\"colab-df-container\">\n",
              "    <div>\n",
              "<style scoped>\n",
              "    .dataframe tbody tr th:only-of-type {\n",
              "        vertical-align: middle;\n",
              "    }\n",
              "\n",
              "    .dataframe tbody tr th {\n",
              "        vertical-align: top;\n",
              "    }\n",
              "\n",
              "    .dataframe thead th {\n",
              "        text-align: right;\n",
              "    }\n",
              "</style>\n",
              "<table border=\"1\" class=\"dataframe\">\n",
              "  <thead>\n",
              "    <tr style=\"text-align: right;\">\n",
              "      <th></th>\n",
              "      <th>저장시간</th>\n",
              "      <th>외부온도</th>\n",
              "      <th>내부온도</th>\n",
              "      <th>내부온도1</th>\n",
              "      <th>내부온도2</th>\n",
              "      <th>내부온도3</th>\n",
              "      <th>내부습도</th>\n",
              "      <th>내부습도1</th>\n",
              "      <th>내부습도2</th>\n",
              "      <th>내부습도3</th>\n",
              "      <th>제어난방온도</th>\n",
              "      <th>난방온도</th>\n",
              "      <th>환기조절</th>\n",
              "      <th>난방조절</th>\n",
              "      <th>내부일사</th>\n",
              "      <th>일사량</th>\n",
              "      <th>CO2농도</th>\n",
              "      <th>이슬점</th>\n",
              "      <th>제어환기온도</th>\n",
              "    </tr>\n",
              "  </thead>\n",
              "  <tbody>\n",
              "    <tr>\n",
              "      <th>0</th>\n",
              "      <td>2018-01-01 00:00:00</td>\n",
              "      <td>-2.4</td>\n",
              "      <td>14.1</td>\n",
              "      <td>13.4</td>\n",
              "      <td>14.9</td>\n",
              "      <td>40.0</td>\n",
              "      <td>85.8</td>\n",
              "      <td>83.1</td>\n",
              "      <td>88.5</td>\n",
              "      <td>99.9</td>\n",
              "      <td>14.0</td>\n",
              "      <td>14.0</td>\n",
              "      <td>0.0</td>\n",
              "      <td>0.0</td>\n",
              "      <td>0</td>\n",
              "      <td>0</td>\n",
              "      <td>424</td>\n",
              "      <td>10.5</td>\n",
              "      <td>15.0</td>\n",
              "    </tr>\n",
              "    <tr>\n",
              "      <th>1</th>\n",
              "      <td>2018-01-01 00:01:00</td>\n",
              "      <td>-2.4</td>\n",
              "      <td>14.2</td>\n",
              "      <td>13.4</td>\n",
              "      <td>14.9</td>\n",
              "      <td>40.0</td>\n",
              "      <td>85.9</td>\n",
              "      <td>83.1</td>\n",
              "      <td>88.8</td>\n",
              "      <td>99.4</td>\n",
              "      <td>14.0</td>\n",
              "      <td>14.0</td>\n",
              "      <td>0.0</td>\n",
              "      <td>0.0</td>\n",
              "      <td>0</td>\n",
              "      <td>0</td>\n",
              "      <td>424</td>\n",
              "      <td>10.5</td>\n",
              "      <td>15.0</td>\n",
              "    </tr>\n",
              "    <tr>\n",
              "      <th>2</th>\n",
              "      <td>2018-01-01 00:02:00</td>\n",
              "      <td>-2.5</td>\n",
              "      <td>14.1</td>\n",
              "      <td>13.4</td>\n",
              "      <td>14.9</td>\n",
              "      <td>40.2</td>\n",
              "      <td>86.1</td>\n",
              "      <td>83.1</td>\n",
              "      <td>89.0</td>\n",
              "      <td>100.0</td>\n",
              "      <td>14.0</td>\n",
              "      <td>14.0</td>\n",
              "      <td>0.0</td>\n",
              "      <td>0.0</td>\n",
              "      <td>0</td>\n",
              "      <td>0</td>\n",
              "      <td>424</td>\n",
              "      <td>10.5</td>\n",
              "      <td>15.0</td>\n",
              "    </tr>\n",
              "    <tr>\n",
              "      <th>3</th>\n",
              "      <td>2018-01-01 00:03:00</td>\n",
              "      <td>-2.5</td>\n",
              "      <td>14.1</td>\n",
              "      <td>13.4</td>\n",
              "      <td>14.8</td>\n",
              "      <td>40.2</td>\n",
              "      <td>85.9</td>\n",
              "      <td>83.1</td>\n",
              "      <td>88.8</td>\n",
              "      <td>99.6</td>\n",
              "      <td>14.0</td>\n",
              "      <td>14.0</td>\n",
              "      <td>0.0</td>\n",
              "      <td>0.0</td>\n",
              "      <td>0</td>\n",
              "      <td>0</td>\n",
              "      <td>426</td>\n",
              "      <td>10.5</td>\n",
              "      <td>15.0</td>\n",
              "    </tr>\n",
              "    <tr>\n",
              "      <th>4</th>\n",
              "      <td>2018-01-01 00:04:00</td>\n",
              "      <td>-2.4</td>\n",
              "      <td>14.1</td>\n",
              "      <td>13.4</td>\n",
              "      <td>14.8</td>\n",
              "      <td>40.1</td>\n",
              "      <td>86.3</td>\n",
              "      <td>83.1</td>\n",
              "      <td>89.5</td>\n",
              "      <td>99.9</td>\n",
              "      <td>14.0</td>\n",
              "      <td>14.0</td>\n",
              "      <td>0.0</td>\n",
              "      <td>0.0</td>\n",
              "      <td>0</td>\n",
              "      <td>0</td>\n",
              "      <td>424</td>\n",
              "      <td>10.5</td>\n",
              "      <td>15.0</td>\n",
              "    </tr>\n",
              "  </tbody>\n",
              "</table>\n",
              "</div>\n",
              "    <div class=\"colab-df-buttons\">\n",
              "\n",
              "  <div class=\"colab-df-container\">\n",
              "    <button class=\"colab-df-convert\" onclick=\"convertToInteractive('df-7de2f5d7-e943-4394-a0cf-9999112e6f5f')\"\n",
              "            title=\"Convert this dataframe to an interactive table.\"\n",
              "            style=\"display:none;\">\n",
              "\n",
              "  <svg xmlns=\"http://www.w3.org/2000/svg\" height=\"24px\" viewBox=\"0 -960 960 960\">\n",
              "    <path d=\"M120-120v-720h720v720H120Zm60-500h600v-160H180v160Zm220 220h160v-160H400v160Zm0 220h160v-160H400v160ZM180-400h160v-160H180v160Zm440 0h160v-160H620v160ZM180-180h160v-160H180v160Zm440 0h160v-160H620v160Z\"/>\n",
              "  </svg>\n",
              "    </button>\n",
              "\n",
              "  <style>\n",
              "    .colab-df-container {\n",
              "      display:flex;\n",
              "      gap: 12px;\n",
              "    }\n",
              "\n",
              "    .colab-df-convert {\n",
              "      background-color: #E8F0FE;\n",
              "      border: none;\n",
              "      border-radius: 50%;\n",
              "      cursor: pointer;\n",
              "      display: none;\n",
              "      fill: #1967D2;\n",
              "      height: 32px;\n",
              "      padding: 0 0 0 0;\n",
              "      width: 32px;\n",
              "    }\n",
              "\n",
              "    .colab-df-convert:hover {\n",
              "      background-color: #E2EBFA;\n",
              "      box-shadow: 0px 1px 2px rgba(60, 64, 67, 0.3), 0px 1px 3px 1px rgba(60, 64, 67, 0.15);\n",
              "      fill: #174EA6;\n",
              "    }\n",
              "\n",
              "    .colab-df-buttons div {\n",
              "      margin-bottom: 4px;\n",
              "    }\n",
              "\n",
              "    [theme=dark] .colab-df-convert {\n",
              "      background-color: #3B4455;\n",
              "      fill: #D2E3FC;\n",
              "    }\n",
              "\n",
              "    [theme=dark] .colab-df-convert:hover {\n",
              "      background-color: #434B5C;\n",
              "      box-shadow: 0px 1px 3px 1px rgba(0, 0, 0, 0.15);\n",
              "      filter: drop-shadow(0px 1px 2px rgba(0, 0, 0, 0.3));\n",
              "      fill: #FFFFFF;\n",
              "    }\n",
              "  </style>\n",
              "\n",
              "    <script>\n",
              "      const buttonEl =\n",
              "        document.querySelector('#df-7de2f5d7-e943-4394-a0cf-9999112e6f5f button.colab-df-convert');\n",
              "      buttonEl.style.display =\n",
              "        google.colab.kernel.accessAllowed ? 'block' : 'none';\n",
              "\n",
              "      async function convertToInteractive(key) {\n",
              "        const element = document.querySelector('#df-7de2f5d7-e943-4394-a0cf-9999112e6f5f');\n",
              "        const dataTable =\n",
              "          await google.colab.kernel.invokeFunction('convertToInteractive',\n",
              "                                                    [key], {});\n",
              "        if (!dataTable) return;\n",
              "\n",
              "        const docLinkHtml = 'Like what you see? Visit the ' +\n",
              "          '<a target=\"_blank\" href=https://colab.research.google.com/notebooks/data_table.ipynb>data table notebook</a>'\n",
              "          + ' to learn more about interactive tables.';\n",
              "        element.innerHTML = '';\n",
              "        dataTable['output_type'] = 'display_data';\n",
              "        await google.colab.output.renderOutput(dataTable, element);\n",
              "        const docLink = document.createElement('div');\n",
              "        docLink.innerHTML = docLinkHtml;\n",
              "        element.appendChild(docLink);\n",
              "      }\n",
              "    </script>\n",
              "  </div>\n",
              "\n",
              "\n",
              "<div id=\"df-2f099e8d-08ed-474d-9d80-0fb21a4db888\">\n",
              "  <button class=\"colab-df-quickchart\" onclick=\"quickchart('df-2f099e8d-08ed-474d-9d80-0fb21a4db888')\"\n",
              "            title=\"Suggest charts\"\n",
              "            style=\"display:none;\">\n",
              "\n",
              "<svg xmlns=\"http://www.w3.org/2000/svg\" height=\"24px\"viewBox=\"0 0 24 24\"\n",
              "     width=\"24px\">\n",
              "    <g>\n",
              "        <path d=\"M19 3H5c-1.1 0-2 .9-2 2v14c0 1.1.9 2 2 2h14c1.1 0 2-.9 2-2V5c0-1.1-.9-2-2-2zM9 17H7v-7h2v7zm4 0h-2V7h2v10zm4 0h-2v-4h2v4z\"/>\n",
              "    </g>\n",
              "</svg>\n",
              "  </button>\n",
              "\n",
              "<style>\n",
              "  .colab-df-quickchart {\n",
              "      --bg-color: #E8F0FE;\n",
              "      --fill-color: #1967D2;\n",
              "      --hover-bg-color: #E2EBFA;\n",
              "      --hover-fill-color: #174EA6;\n",
              "      --disabled-fill-color: #AAA;\n",
              "      --disabled-bg-color: #DDD;\n",
              "  }\n",
              "\n",
              "  [theme=dark] .colab-df-quickchart {\n",
              "      --bg-color: #3B4455;\n",
              "      --fill-color: #D2E3FC;\n",
              "      --hover-bg-color: #434B5C;\n",
              "      --hover-fill-color: #FFFFFF;\n",
              "      --disabled-bg-color: #3B4455;\n",
              "      --disabled-fill-color: #666;\n",
              "  }\n",
              "\n",
              "  .colab-df-quickchart {\n",
              "    background-color: var(--bg-color);\n",
              "    border: none;\n",
              "    border-radius: 50%;\n",
              "    cursor: pointer;\n",
              "    display: none;\n",
              "    fill: var(--fill-color);\n",
              "    height: 32px;\n",
              "    padding: 0;\n",
              "    width: 32px;\n",
              "  }\n",
              "\n",
              "  .colab-df-quickchart:hover {\n",
              "    background-color: var(--hover-bg-color);\n",
              "    box-shadow: 0 1px 2px rgba(60, 64, 67, 0.3), 0 1px 3px 1px rgba(60, 64, 67, 0.15);\n",
              "    fill: var(--button-hover-fill-color);\n",
              "  }\n",
              "\n",
              "  .colab-df-quickchart-complete:disabled,\n",
              "  .colab-df-quickchart-complete:disabled:hover {\n",
              "    background-color: var(--disabled-bg-color);\n",
              "    fill: var(--disabled-fill-color);\n",
              "    box-shadow: none;\n",
              "  }\n",
              "\n",
              "  .colab-df-spinner {\n",
              "    border: 2px solid var(--fill-color);\n",
              "    border-color: transparent;\n",
              "    border-bottom-color: var(--fill-color);\n",
              "    animation:\n",
              "      spin 1s steps(1) infinite;\n",
              "  }\n",
              "\n",
              "  @keyframes spin {\n",
              "    0% {\n",
              "      border-color: transparent;\n",
              "      border-bottom-color: var(--fill-color);\n",
              "      border-left-color: var(--fill-color);\n",
              "    }\n",
              "    20% {\n",
              "      border-color: transparent;\n",
              "      border-left-color: var(--fill-color);\n",
              "      border-top-color: var(--fill-color);\n",
              "    }\n",
              "    30% {\n",
              "      border-color: transparent;\n",
              "      border-left-color: var(--fill-color);\n",
              "      border-top-color: var(--fill-color);\n",
              "      border-right-color: var(--fill-color);\n",
              "    }\n",
              "    40% {\n",
              "      border-color: transparent;\n",
              "      border-right-color: var(--fill-color);\n",
              "      border-top-color: var(--fill-color);\n",
              "    }\n",
              "    60% {\n",
              "      border-color: transparent;\n",
              "      border-right-color: var(--fill-color);\n",
              "    }\n",
              "    80% {\n",
              "      border-color: transparent;\n",
              "      border-right-color: var(--fill-color);\n",
              "      border-bottom-color: var(--fill-color);\n",
              "    }\n",
              "    90% {\n",
              "      border-color: transparent;\n",
              "      border-bottom-color: var(--fill-color);\n",
              "    }\n",
              "  }\n",
              "</style>\n",
              "\n",
              "  <script>\n",
              "    async function quickchart(key) {\n",
              "      const quickchartButtonEl =\n",
              "        document.querySelector('#' + key + ' button');\n",
              "      quickchartButtonEl.disabled = true;  // To prevent multiple clicks.\n",
              "      quickchartButtonEl.classList.add('colab-df-spinner');\n",
              "      try {\n",
              "        const charts = await google.colab.kernel.invokeFunction(\n",
              "            'suggestCharts', [key], {});\n",
              "      } catch (error) {\n",
              "        console.error('Error during call to suggestCharts:', error);\n",
              "      }\n",
              "      quickchartButtonEl.classList.remove('colab-df-spinner');\n",
              "      quickchartButtonEl.classList.add('colab-df-quickchart-complete');\n",
              "    }\n",
              "    (() => {\n",
              "      let quickchartButtonEl =\n",
              "        document.querySelector('#df-2f099e8d-08ed-474d-9d80-0fb21a4db888 button');\n",
              "      quickchartButtonEl.style.display =\n",
              "        google.colab.kernel.accessAllowed ? 'block' : 'none';\n",
              "    })();\n",
              "  </script>\n",
              "</div>\n",
              "\n",
              "    </div>\n",
              "  </div>\n"
            ],
            "application/vnd.google.colaboratory.intrinsic+json": {
              "type": "dataframe",
              "variable_name": "data_filtered"
            }
          },
          "metadata": {},
          "execution_count": 9
        }
      ]
    },
    {
      "cell_type": "code",
      "source": [
        "# 이상치 제거 함수 정의\n",
        "def remove_outliers(df, columns):\n",
        "    for column in columns:\n",
        "        Q1 = df[column].quantile(0.25)\n",
        "        Q3 = df[column].quantile(0.75)\n",
        "        IQR = Q3 - Q1\n",
        "        lower_bound = Q1 - 1.5 * IQR\n",
        "        upper_bound = Q3 + 1.5 * IQR\n",
        "        # IQR 범위 밖의 값을 NaN으로 대체 (이후 결측치 처리 가능)\n",
        "        df[column] = df[column].where((df[column] >= lower_bound) & (df[column] <= upper_bound))\n",
        "    return df\n",
        "\n",
        "# 처리할 열 목록 지정 (온도와 습도 관련 열만 예시로 사용)\n",
        "columns_to_process = ['외부온도', '내부온도', '내부온도1', '내부온도2', '내부온도3',\n",
        "                      '내부습도', '내부습도1', '내부습도2', '내부습도3', '제어난방온도',\n",
        "                      '난방온도', '환기조절', '난방조절', '내부일사', '일사량', 'CO2농도', '이슬점', '제어환기온도']\n",
        "\n",
        "# 이상치 제거\n",
        "data_no_outliers = remove_outliers(data, columns_to_process)\n",
        "\n",
        "# 이상치 제거 후 결측치 보간\n",
        "data_no_outliers = data_no_outliers.interpolate(method='linear')\n",
        "\n",
        "# 결과 확인\n",
        "print(\"이상치 제거 후 데이터:\\n\", data_no_outliers.head())\n"
      ],
      "metadata": {
        "colab": {
          "base_uri": "https://localhost:8080/"
        },
        "id": "noBme3xImm-n",
        "outputId": "137caf12-144c-4d3a-aeaa-99a5a6620ee9"
      },
      "execution_count": null,
      "outputs": [
        {
          "output_type": "stream",
          "name": "stderr",
          "text": [
            "<ipython-input-10-435ee755fc7d>:22: FutureWarning: DataFrame.interpolate with object dtype is deprecated and will raise in a future version. Call obj.infer_objects(copy=False) before interpolating instead.\n",
            "  data_no_outliers = data_no_outliers.interpolate(method='linear')\n"
          ]
        },
        {
          "output_type": "stream",
          "name": "stdout",
          "text": [
            "이상치 제거 후 데이터:\n",
            "                저장시간  내부온도  내부온도1  내부온도2  내부온도3  내부습도  내부습도1  내부습도2  내부습도3  지온  \\\n",
            "0  2018-01-01 00:00  14.1   13.4   14.9   40.0  85.8   83.1   88.5   99.9   0   \n",
            "1  2018-01-01 00:01  14.2   13.4   14.9   40.0  85.9   83.1   88.8   99.4   0   \n",
            "2  2018-01-01 00:02  14.1   13.4   14.9   40.2  86.1   83.1   89.0  100.0   0   \n",
            "3  2018-01-01 00:03  14.1   13.4   14.8   40.2  85.9   83.1   88.8   99.6   0   \n",
            "4  2018-01-01 00:04  14.1   13.4   14.8   40.1  86.3   83.1   89.5   99.9   0   \n",
            "\n",
            "   지습  공급온도1   이슬점  CO2농도  외부온도 풍향   풍속  일사량  누적일사량  감우  제어환기온도  제어난방온도  포화수분  \\\n",
            "0   0   40.0  10.5  424.0  -2.4  우  0.0  0.0    848   0    15.0    14.0  11.5   \n",
            "1   0   40.0  10.5  424.0  -2.4  우  0.0  0.0    848   0    15.0    14.0  11.5   \n",
            "2   0   40.2  10.5  424.0  -2.5  우  0.0  0.0    848   0    15.0    14.0  11.5   \n",
            "3   0   40.2  10.5  426.0  -2.5  우  0.0  0.0    848   0    15.0    14.0  11.5   \n",
            "4   0   40.1  10.5  424.0  -2.4  우  0.0  0.0    848   0    15.0    14.0  11.5   \n",
            "\n",
            "   절대습도  수분부족분  이중창환기온도  CO2설정값  환기조절  난방조절  천창좌개도  천창우개도  이중창좌개도  이중창우개도  \\\n",
            "0   9.5    2.0     15.0   360.0   0.0   0.0      0      0       0       0   \n",
            "1   9.5    2.0     15.0   360.0   0.0   0.0      0      0       0       0   \n",
            "2   9.5    2.0     15.0   360.0   0.0   0.0      0      0       0       0   \n",
            "3   9.5    2.0     15.0   360.0   0.0   0.0      0      0       0       0   \n",
            "4   9.5    2.0     15.0   360.0   0.0   0.0      0      0       0       0   \n",
            "\n",
            "   측창좌개도  측창우개도  커튼상개도  커튼하개도  측커튼개도  외부커튼개도  3Way밸브1개도  3Way밸브2개도 천창 자/수동  \\\n",
            "0      0      0      0      6      0       6          0          0      자동   \n",
            "1      0      0      0     17      0       6          0          0      자동   \n",
            "2      0      0      0     33      0       6          0          0      자동   \n",
            "3      0      0      0     50      0       6          0          0      자동   \n",
            "4      0      0      0     65      0       6          0          0      자동   \n",
            "\n",
            "  이중창 자/수동 측창 자/수동 커튼상 자/수동 커튼하 자/수동 측커튼 자/수동 외부커튼 자/수동 3Way1 자/수동 3Way2 자/수동  \\\n",
            "0       수동      수동       자동       자동       자동        자동         자동         수동   \n",
            "1       수동      수동       자동       자동       자동        자동         자동         수동   \n",
            "2       수동      수동       자동       자동       자동        자동         자동         수동   \n",
            "3       수동      수동       자동       자동       자동        자동         자동         수동   \n",
            "4       수동      수동       자동       자동       자동        자동         자동         수동   \n",
            "\n",
            "  분무 자/수동 CO2 자/수동 스프링쿨러 자/수동 냉난방기 자/수동 보광등 자/수동 훈증기 자/수동 보일러 자/수동 순환펌프 자/수동  \\\n",
            "0      수동       자동         수동        수동       수동       수동       수동        자동   \n",
            "1      수동       자동         수동        수동       수동       수동       수동        자동   \n",
            "2      수동       자동         수동        수동       수동       수동       수동        자동   \n",
            "3      수동       자동         수동        수동       수동       수동       수동        자동   \n",
            "4      수동       자동         수동        수동       수동       수동       수동        자동   \n",
            "\n",
            "  유동팬 자/수동 배기팬 자/수동 분무작동상태 CO2작동상태 스프링쿨러작동상태 냉난방기작동상태 보광등작동상태 훈증기작동상태 보일러작동상태  \\\n",
            "0       수동       수동     정지      정지        정지       정지      정지      정지      정지   \n",
            "1       수동       수동     정지      정지        정지       정지      정지      정지      정지   \n",
            "2       수동       수동     정지      정지        정지       정지      정지      정지      정지   \n",
            "3       수동       수동     정지      정지        정지       정지      정지      정지      정지   \n",
            "4       수동       수동     정지      정지        정지       정지      정지      정지      정지   \n",
            "\n",
            "  순환펌프작동상태 유동팬작동상태 배기팬작동상태  이중환기조절  환기온도  이중환기온도  난방온도  공급온도2 정전신호 로그인상태  \\\n",
            "0       정지      정지      정지     0.0  15.0    15.0  14.0      0   정상   로그온   \n",
            "1       정지      정지      정지     0.0  15.0    15.0  14.0      0   정상   로그온   \n",
            "2       정지      정지      정지     0.0  15.0    15.0  14.0      0   정상   로그온   \n",
            "3       정지      정지      정지     0.0  15.0    15.0  14.0      0   정상   로그온   \n",
            "4       정지      정지      정지     0.0  15.0    15.0  14.0      0   정상   로그온   \n",
            "\n",
            "   회수온도1  회수온도2  EC1  EC2  PH1  PH2  내부일사  \n",
            "0      0      0    0  1.5    0  0.0     0  \n",
            "1      0      0    0  1.5    0  0.0     0  \n",
            "2      0      0    0  1.5    0  0.0     0  \n",
            "3      0      0    0  1.5    0  0.0     0  \n",
            "4      0      0    0  1.5    0  0.0     0  \n"
          ]
        }
      ]
    },
    {
      "cell_type": "code",
      "source": [
        "import pandas as pd\n",
        "\n",
        "# 이상치를 제거할 열 목록 지정\n",
        "columns_to_process = data_filtered.select_dtypes(include=['float64', 'int64']).columns  # 숫자형 열만 선택\n",
        "\n",
        "# 이상치 제거를 위한 함수 정의 : Q1 - 1.5 * IQR 이하 또는 Q3 + 1.5 * IQR 이상의 값을 이상치로 간주\n",
        "def remove_outliers(df, columns):\n",
        "    for col in columns:\n",
        "        Q1 = df[col].quantile(0.25)  # 1사분위수\n",
        "        Q3 = df[col].quantile(0.75)  # 3사분위수\n",
        "        IQR = Q3 - Q1  # IQR 계산\n",
        "        lower_bound = Q1 - 1.5 * IQR\n",
        "        upper_bound = Q3 + 1.5 * IQR\n",
        "        # 범위 내에 있는 데이터만 필터링\n",
        "        df = df[(df[col] >= lower_bound) & (df[col] <= upper_bound)]\n",
        "    return df\n",
        "\n",
        "# data_filtered에 대해 이상치 제거\n",
        "data_no_outliers = remove_outliers(data_filtered, columns_to_process)\n",
        "\n",
        "# 결과 확인\n",
        "print(\"이상치 제거 전:\", data_filtered.shape)\n",
        "print(\"이상치 제거 후:\", data_no_outliers.shape)\n"
      ],
      "metadata": {
        "colab": {
          "base_uri": "https://localhost:8080/"
        },
        "id": "PHfhpOacnNjH",
        "outputId": "318ef298-2f16-4f84-b156-916718f0a67c"
      },
      "execution_count": null,
      "outputs": [
        {
          "output_type": "stream",
          "name": "stdout",
          "text": [
            "이상치 제거 전: (525383, 19)\n",
            "이상치 제거 후: (175346, 19)\n"
          ]
        }
      ]
    },
    {
      "cell_type": "code",
      "source": [
        "def remove_outliers_adjusted(df, columns, factor=3):\n",
        "    for col in columns:\n",
        "        Q1 = df[col].quantile(0.25)\n",
        "        Q3 = df[col].quantile(0.75)\n",
        "        IQR = Q3 - Q1\n",
        "        lower_bound = Q1 - factor * IQR\n",
        "        upper_bound = Q3 + factor * IQR\n",
        "        df = df[(df[col] >= lower_bound) & (df[col] <= upper_bound)]\n",
        "    return df\n",
        "\n",
        "# IQR * 3을 적용하여 이상치 제거\n",
        "data_no_outliers_adjusted = remove_outliers_adjusted(data_filtered, columns_to_process, factor=3)\n",
        "\n",
        "# 제거 전후 크기 비교\n",
        "print(\"완화된 이상치 제거 후 크기:\", data_no_outliers_adjusted.shape)\n"
      ],
      "metadata": {
        "colab": {
          "base_uri": "https://localhost:8080/"
        },
        "id": "OYkqbonqnbra",
        "outputId": "fec9cebd-13ac-4c22-80f5-bb015048fac0"
      },
      "execution_count": null,
      "outputs": [
        {
          "output_type": "stream",
          "name": "stdout",
          "text": [
            "완화된 이상치 제거 후 크기: (473179, 19)\n"
          ]
        }
      ]
    },
    {
      "cell_type": "code",
      "source": [
        "from sklearn.preprocessing import MinMaxScaler\n",
        "\n",
        "# 정규화를 위한 scaler 생성 - 완화된 이상치 제거 후 정규화\n",
        "scaler = MinMaxScaler()\n",
        "\n",
        "# 숫자형 열만 선택하여 정규화\n",
        "numeric_columns = data_no_outliers_adjusted.select_dtypes(include=['float64', 'int64']).columns\n",
        "data_no_outliers_adjusted[numeric_columns] = scaler.fit_transform(data_no_outliers_adjusted[numeric_columns])\n",
        "\n",
        "# 결과 확인\n",
        "print(\"정규화된 데이터:\\n\", data_no_outliers_adjusted.head())\n"
      ],
      "metadata": {
        "colab": {
          "base_uri": "https://localhost:8080/"
        },
        "id": "fHIDsiPpn4RH",
        "outputId": "1a9fdcff-eedb-4630-953f-5c485d65d8c1"
      },
      "execution_count": null,
      "outputs": [
        {
          "output_type": "stream",
          "name": "stdout",
          "text": [
            "정규화된 데이터:\n",
            "                  저장시간      외부온도      내부온도     내부온도1     내부온도2     내부온도3  \\\n",
            "0 2018-01-01 00:00:00  0.229508  0.147059  0.151111  0.174807  0.662338   \n",
            "1 2018-01-01 00:01:00  0.229508  0.149510  0.151111  0.174807  0.662338   \n",
            "2 2018-01-01 00:02:00  0.227687  0.147059  0.151111  0.174807  0.667532   \n",
            "3 2018-01-01 00:03:00  0.227687  0.147059  0.151111  0.172237  0.667532   \n",
            "4 2018-01-01 00:04:00  0.229508  0.147059  0.151111  0.172237  0.664935   \n",
            "\n",
            "       내부습도     내부습도1     내부습도2     내부습도3  제어난방온도  난방온도      환기조절      난방조절  \\\n",
            "0  0.765289  0.757184  0.820312  0.972973     0.0   0.0  0.193548  0.423077   \n",
            "1  0.766942  0.757184  0.825000  0.837838     0.0   0.0  0.193548  0.423077   \n",
            "2  0.770248  0.757184  0.828125  1.000000     0.0   0.0  0.193548  0.423077   \n",
            "3  0.766942  0.757184  0.825000  0.891892     0.0   0.0  0.193548  0.423077   \n",
            "4  0.773554  0.757184  0.835938  0.972973     0.0   0.0  0.193548  0.423077   \n",
            "\n",
            "   내부일사  일사량     CO2농도       이슬점    제어환기온도  \n",
            "0   0.0  0.0  0.511494  0.143469  0.103448  \n",
            "1   0.0  0.0  0.511494  0.143469  0.103448  \n",
            "2   0.0  0.0  0.511494  0.143469  0.103448  \n",
            "3   0.0  0.0  0.517241  0.143469  0.103448  \n",
            "4   0.0  0.0  0.511494  0.143469  0.103448  \n"
          ]
        }
      ]
    },
    {
      "cell_type": "code",
      "source": [
        "import pandas as pd\n",
        "from statsmodels.stats.outliers_influence import variance_inflation_factor\n",
        "\n",
        "# 다중공선성 확인을 위한 함수 정의\n",
        "def calculate_vif(df):\n",
        "    vif_data = pd.DataFrame()\n",
        "    vif_data['Feature'] = df.columns\n",
        "    vif_data['VIF'] = [variance_inflation_factor(df.values, i) for i in range(df.shape[1])]\n",
        "    return vif_data\n",
        "\n",
        "# 숫자형 열만 선택\n",
        "numeric_columns = data_no_outliers_adjusted.select_dtypes(include=['float64', 'int64']).columns\n",
        "data_numeric = data_no_outliers_adjusted[numeric_columns]\n",
        "\n",
        "# VIF 계산\n",
        "vif_df = calculate_vif(data_numeric)\n",
        "\n",
        "# 결과 출력\n",
        "print(vif_df)\n"
      ],
      "metadata": {
        "colab": {
          "base_uri": "https://localhost:8080/"
        },
        "id": "AdF0YZBHoF5j",
        "outputId": "4c0ec5ce-5255-4b7d-8f8c-3dc11adf21ef"
      },
      "execution_count": null,
      "outputs": [
        {
          "output_type": "stream",
          "name": "stderr",
          "text": [
            "/usr/local/lib/python3.10/dist-packages/statsmodels/regression/linear_model.py:1784: RuntimeWarning: invalid value encountered in scalar divide\n",
            "  return 1 - self.ssr/self.uncentered_tss\n"
          ]
        },
        {
          "output_type": "stream",
          "name": "stdout",
          "text": [
            "   Feature           VIF\n",
            "0     외부온도     52.433238\n",
            "1     내부온도  12483.775424\n",
            "2    내부온도1   5803.767738\n",
            "3    내부온도2   3116.966149\n",
            "4    내부온도3     13.444674\n",
            "5     내부습도    132.151255\n",
            "6    내부습도1    993.913406\n",
            "7    내부습도2     86.206313\n",
            "8    내부습도3     29.918498\n",
            "9   제어난방온도   5359.564605\n",
            "10    난방온도   4189.979452\n",
            "11    환기조절     21.209049\n",
            "12    난방조절    697.183855\n",
            "13    내부일사           NaN\n",
            "14     일사량      7.071224\n",
            "15   CO2농도     24.073608\n",
            "16     이슬점   1838.537917\n",
            "17  제어환기온도      5.101542\n"
          ]
        }
      ]
    },
    {
      "cell_type": "code",
      "source": [
        "import pandas as pd\n",
        "from statsmodels.stats.outliers_influence import variance_inflation_factor\n",
        "\n",
        "# 내부온도 및 내부습도 변수 결합 (평균값 사용)\n",
        "data_no_outliers_adjusted['평균_내부온도'] = data_no_outliers_adjusted[['내부온도', '내부온도1', '내부온도2', '내부온도3']].mean(axis=1)\n",
        "data_no_outliers_adjusted['평균_내부습도'] = data_no_outliers_adjusted[['내부습도', '내부습도1', '내부습도2', '내부습도3']].mean(axis=1)\n",
        "\n",
        "# 결합한 후 불필요해진 원래 변수 제거\n",
        "data_reduced = data_no_outliers_adjusted.drop(columns=['내부온도', '내부온도1', '내부온도2', '내부온도3',\n",
        "                                                      '내부습도', '내부습도1', '내부습도2', '내부습도3'])\n",
        "\n",
        "# 다중공선성 확인을 위한 VIF 계산 함수\n",
        "def calculate_vif(df):\n",
        "    vif_data = pd.DataFrame()\n",
        "    vif_data['Feature'] = df.columns\n",
        "    vif_data['VIF'] = [variance_inflation_factor(df.values, i) for i in range(df.shape[1])]\n",
        "    return vif_data\n",
        "\n",
        "# 숫자형 열에 대해 VIF 다시 계산\n",
        "numeric_columns = data_reduced.select_dtypes(include=['float64', 'int64']).columns\n",
        "vif_df = calculate_vif(data_reduced[numeric_columns])\n",
        "\n",
        "# 결과 출력\n",
        "print(vif_df)\n"
      ],
      "metadata": {
        "colab": {
          "base_uri": "https://localhost:8080/"
        },
        "id": "HLDWOhCUpB_y",
        "outputId": "60f531d0-ac84-4ad3-97c9-376fc925c86e"
      },
      "execution_count": null,
      "outputs": [
        {
          "output_type": "stream",
          "name": "stderr",
          "text": [
            "/usr/local/lib/python3.10/dist-packages/statsmodels/regression/linear_model.py:1784: RuntimeWarning: invalid value encountered in scalar divide\n",
            "  return 1 - self.ssr/self.uncentered_tss\n"
          ]
        },
        {
          "output_type": "stream",
          "name": "stdout",
          "text": [
            "    Feature          VIF\n",
            "0      외부온도    34.417562\n",
            "1    제어난방온도  1081.428592\n",
            "2      난방온도   861.322118\n",
            "3      환기조절    19.414686\n",
            "4      난방조절   130.009920\n",
            "5      내부일사          NaN\n",
            "6       일사량     6.591468\n",
            "7     CO2농도    22.843933\n",
            "8       이슬점    68.832305\n",
            "9    제어환기온도     5.034992\n",
            "10  평균_내부온도    80.349891\n",
            "11  평균_내부습도   102.103614\n"
          ]
        }
      ]
    },
    {
      "cell_type": "code",
      "source": [
        "# 외부온도와 내부온도의 차이 절대값 계산하여 새로운 파생 변수 추가\n",
        "data_reduced['온도차이_절대값'] = abs(data_reduced['외부온도'] - data_reduced['평균_내부온도'])\n",
        "\n",
        "# 주요 특징 선택\n",
        "selected_features = [\n",
        "    '외부온도', '평균_내부온도', '평균_내부습도', '제어환기온도', '환기조절', '난방조절',\n",
        "    'CO2농도', '일사량', '이슬점', '온도차이_절대값'\n",
        "]\n",
        "data_final = data_reduced[selected_features]\n",
        "\n",
        "# 결과 확인\n",
        "print(\"선택된 주요 특징과 파생 변수:\\n\", data_final.head())\n"
      ],
      "metadata": {
        "colab": {
          "base_uri": "https://localhost:8080/"
        },
        "id": "wl00Cu7hprI7",
        "outputId": "60425347-8e75-4a48-8f49-54e583dbf968"
      },
      "execution_count": null,
      "outputs": [
        {
          "output_type": "stream",
          "name": "stdout",
          "text": [
            "선택된 주요 특징과 파생 변수:\n",
            "        외부온도   평균_내부온도   평균_내부습도    제어환기온도      환기조절      난방조절     CO2농도  일사량  \\\n",
            "0  0.229508  0.283829  0.828940  0.103448  0.193548  0.423077  0.511494  0.0   \n",
            "1  0.229508  0.284441  0.796741  0.103448  0.193548  0.423077  0.511494  0.0   \n",
            "2  0.227687  0.285127  0.838889  0.103448  0.193548  0.423077  0.511494  0.0   \n",
            "3  0.227687  0.284485  0.810254  0.103448  0.193548  0.423077  0.517241  0.0   \n",
            "4  0.229508  0.283835  0.834912  0.103448  0.193548  0.423077  0.511494  0.0   \n",
            "\n",
            "        이슬점  온도차이_절대값  \n",
            "0  0.143469  0.054321  \n",
            "1  0.143469  0.054933  \n",
            "2  0.143469  0.057441  \n",
            "3  0.143469  0.056798  \n",
            "4  0.143469  0.054327  \n"
          ]
        }
      ]
    },
    {
      "cell_type": "code",
      "source": [
        "# 입력 변수(X)와 타깃 변수(y) 설정\n",
        "X = data_final.drop(columns=['평균_내부온도', '평균_내부습도'])  # 타깃 변수를 제외한 모든 주요 특징을 포함\n",
        "y = data_final[['평균_내부온도', '평균_내부습도']]  # 예측할 타깃 변수\n"
      ],
      "metadata": {
        "id": "nHJmwBAJqkLJ"
      },
      "execution_count": null,
      "outputs": []
    },
    {
      "cell_type": "code",
      "source": [
        "from google.colab import drive\n",
        "from matplotlib import font_manager, rc\n",
        "import matplotlib.pyplot as plt\n",
        "\n",
        "# 폰트 경로 설정 (Google Drive의 위치에 따라 경로 수정)\n",
        "font_path = '/content/drive/MyDrive/fonts/NanumGothic.ttf'\n",
        "font_manager.fontManager.addfont(font_path)\n",
        "font_name = font_manager.FontProperties(fname=font_path).get_name()\n",
        "rc('font', family=font_name)\n",
        "\n",
        "# 폰트 설정 확인 (한글이 깨지지 않도록 설정)\n",
        "print(\"현재 설정된 한글 폰트:\", font_name)"
      ],
      "metadata": {
        "colab": {
          "base_uri": "https://localhost:8080/"
        },
        "id": "K6CpuEhzrICi",
        "outputId": "0eb9029d-47d3-4dab-abf0-121547fee94f"
      },
      "execution_count": null,
      "outputs": [
        {
          "output_type": "stream",
          "name": "stdout",
          "text": [
            "현재 설정된 한글 폰트: NanumGothic\n"
          ]
        }
      ]
    },
    {
      "cell_type": "code",
      "source": [
        "from google.colab import drive\n",
        "from matplotlib import font_manager, rc\n",
        "import matplotlib.pyplot as plt\n",
        "import seaborn as sns\n",
        "\n",
        "# 폰트를 Matplotlib에 추가 및 적용\n",
        "font_manager.fontManager.addfont(font_path)\n",
        "font_name = font_manager.FontProperties(fname=font_path).get_name()\n",
        "rc('font', family=font_name)\n",
        "\n",
        "# 설정된 폰트 확인\n",
        "print(\"현재 설정된 한글 폰트:\", font_name)\n",
        "\n",
        "# 데이터 예시 (X와 y 변수가 있다고 가정)\n",
        "# 예시 데이터 - 입력 변수(X)와 타깃 변수(y) 박스플롯 그리기\n",
        "plt.figure(figsize=(16, 6))\n",
        "sns.boxplot(data=X)  # X는 입력 변수 데이터프레임\n",
        "plt.xticks(rotation=90)\n",
        "plt.title(\"입력 변수 (X) 박스플롯\")\n",
        "plt.show()\n",
        "\n",
        "plt.figure(figsize=(8, 6))\n",
        "sns.boxplot(data=y)  # y는 타깃 변수 데이터프레임\n",
        "plt.xticks(rotation=90)\n",
        "plt.title(\"타깃 변수 (y) 박스플롯\")\n",
        "plt.show()\n"
      ],
      "metadata": {
        "colab": {
          "base_uri": "https://localhost:8080/",
          "height": 1000
        },
        "id": "A_k1gSQyr_QI",
        "outputId": "b258d0d6-c581-46da-8faf-f836775d6ce8"
      },
      "execution_count": null,
      "outputs": [
        {
          "output_type": "stream",
          "name": "stdout",
          "text": [
            "현재 설정된 한글 폰트: NanumGothic\n"
          ]
        },
        {
          "output_type": "display_data",
          "data": {
            "text/plain": [
              "<Figure size 1600x600 with 1 Axes>"
            ],
            "image/png": "[encoded data removed]"
          },
          "metadata": {}
        },
        {
          "output_type": "display_data",
          "data": {
            "text/plain": [
              "<Figure size 800x600 with 1 Axes>"
            ],
            "image/png": "[encoded data removed]"
          },
          "metadata": {}
        }
      ]
    },
    {
      "cell_type": "markdown",
      "source": [
        "## 결과 설명"
      ],
      "metadata": {
        "id": "lB1t1e3_ssPs"
      }
    },
    {
      "cell_type": "markdown",
      "source": [
        "1. 입력 변수 (X) 박스플롯\n",
        "주요 입력 변수들이 다양한 범위로 분포하고 있으며, 데이터가 0과 1 사이로 정규화되어 있어서 모델 학습에 적합한 상태로 보입니다.\n",
        "일부 변수에서 이상치가 존재하는데, 예를 들어, \"환기조절\", \"난방조절\", \"CO2농도\" 변수에서는 극단적인 값들이 여전히 남아 있습니다. 하지만 이 이상치들은 실제 환경의 특성일 수 있기 때문에, 반드시 제거할 필요는 없을 수도 있습니다.\n",
        "\"온도차이 절대값\"은 대체로 0에 가까운 값을 가지며, 외부온도와 내부온도의 차이가 크지 않음을 나타내고 있습니다. 이는 내부 환경이 비교적 안정적으로 유지된다는 것을 의미할 수 있습니다.\n",
        "2. 타깃 변수 (y) 박스플롯\n",
        "\"내부온도\"와 \"내부습도\" 모두 비교적 분포가 넓은데, 이는 내부 환경 조절이 다양한 외부 조건과 영향을 받을 수 있다는 것을 암시합니다.\n",
        "특히 \"내부습도\"의 경우 상위 구간에 많은 데이터가 밀집되어 있으며, 극단적인 이상치들이 하위 구간에 존재하고 있습니다. 이는 특정 시점에 습도가 급격히 떨어지는 경우가 발생했을 수 있음을 나타냅니다.\n",
        "\"내부온도\"의 분포도 대체로 안정적인 것으로 보이지만, 소수의 극단적인 데이터가 상단에 위치하고 있어 극한의 온도 환경에서 데이터가 수집되었을 가능성을 시사합니다.\n",
        "종합 의견\n",
        "데이터는 전처리를 통해 적절히 정규화되었으며, 타깃 변수 예측에 필요한 주요 특징들을 잘 반영하고 있습니다.\n",
        "이상치는 일부 남아 있지만, 실제 환경에서 수집된 데이터이기 때문에 모든 이상치를 제거하지 않고 실제 상황을 반영하는 것이 더 유리할 수 있습니다.\n",
        "이 데이터로 예측 모델을 학습시킬 경우, 내부온도와 내부습도 조절을 위한 기초적인 환경 변수를 잘 반영할 것으로 보입니다."
      ],
      "metadata": {
        "id": "oq5IeSVRsqNc"
      }
    }
  ]
}